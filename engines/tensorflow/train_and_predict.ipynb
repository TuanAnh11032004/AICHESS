{
 "cells": [
  {
   "cell_type": "markdown",
   "metadata": {},
   "source": [
    "# Chess Engine với TensorFlow"
   ]
  },
  {
   "cell_type": "markdown",
   "metadata": {},
   "source": [
    "## Dataset"
   ]
  },
  {
   "cell_type": "code",
   "execution_count": null,
   "metadata": {},
   "outputs": [],
   "source": [
    "import os\n",
    "\n",
    "files = [file for file in os.listdir(\"data/pgn\") if file.endswith(\".pgn\")]"
   ]
  },
  {
   "cell_type": "code",
   "execution_count": null,
   "metadata": {},
   "outputs": [],
   "source": [
    "len(files)"
   ]
  },
  {
   "cell_type": "code",
   "execution_count": null,
   "metadata": {},
   "outputs": [],
   "source": [
    "from chess import pgn\n",
    "\n",
    "def load_pgn(file_path):\n",
    "    games = []\n",
    "    with open(file_path, 'r') as pgn_file:\n",
    "        while True:\n",
    "            game = pgn.read_game(pgn_file)\n",
    "            if game is None:\n",
    "                break\n",
    "            games.append(game)\n",
    "    return games"
   ]
  },
  {
   "cell_type": "code",
   "execution_count": null,
   "metadata": {},
   "outputs": [],
   "source": [
    "from tqdm import tqdm\n",
    "\n",
    "LIMIT_OF_FILES = min(len(files), 24)\n",
    "games = []\n",
    "i = 1\n",
    "for file in tqdm(files):\n",
    "    games.extend(load_pgn(f\"data/pgn/{file}\"))\n",
    "    if (i >= LIMIT_OF_FILES):\n",
    "        break\n",
    "    i += 1"
   ]
  },
  {
   "cell_type": "code",
   "execution_count": null,
   "metadata": {},
   "outputs": [],
   "source": [
    "len(games)"
   ]
  },
  {
   "cell_type": "markdown",
   "metadata": {},
   "source": [
    "## Xây dựng và đào tạo mạng lưới nơ-ron"
   ]
  },
  {
   "cell_type": "code",
   "execution_count": null,
   "metadata": {},
   "outputs": [],
   "source": [
    "import numpy as np\n",
    "from chess import Board\n",
    "from tensorflow.keras.utils import to_categorical\n",
    "from tensorflow.keras.models import Sequential\n",
    "from tensorflow.keras.layers import Conv2D, Flatten, Dense\n",
    "from tensorflow.keras.optimizers import Adam # type: ignore\n",
    "import time"
   ]
  },
  {
   "cell_type": "code",
   "execution_count": null,
   "metadata": {},
   "outputs": [],
   "source": [
    "def board_to_matrix(board: Board):\n",
    "    matrix = np.zeros((8, 8, 12))\n",
    "    piece_map = board.piece_map()\n",
    "    for square, piece in piece_map.items():\n",
    "        row, col = divmod(square, 8)\n",
    "        piece_type = piece.piece_type - 1\n",
    "        piece_color = 0 if piece.color else 6\n",
    "        matrix[row, col, piece_type + piece_color] = 1\n",
    "    return matrix\n",
    "\n",
    "\n",
    "def create_input_for_nn(games):\n",
    "    X = []\n",
    "    y = []\n",
    "    for game in games:\n",
    "        board = game.board()\n",
    "        for move in game.mainline_moves():\n",
    "            X.append(board_to_matrix(board))\n",
    "            y.append(move.uci())\n",
    "            board.push(move)\n",
    "    return X, y\n",
    "\n",
    "\n",
    "def encode_moves(moves):\n",
    "    move_to_int = {move: idx for idx, move in enumerate(set(moves))}\n",
    "    return [move_to_int[move] for move in moves], move_to_int"
   ]
  },
  {
   "cell_type": "code",
   "execution_count": null,
   "metadata": {},
   "outputs": [],
   "source": [
    "X, y = create_input_for_nn(games)\n",
    "y, move_to_int = encode_moves(y)\n",
    "y = to_categorical(y, num_classes=len(move_to_int))\n",
    "X = np.array(X)"
   ]
  },
  {
   "cell_type": "code",
   "execution_count": null,
   "metadata": {},
   "outputs": [],
   "source": [
    "model = Sequential([\n",
    "    Conv2D(64, (3, 3), activation='relu', input_shape=(8, 8, 12)),\n",
    "    Conv2D(128, (3, 3), activation='relu'),\n",
    "    Flatten(),\n",
    "    Dense(256, activation='relu'),\n",
    "    Dense(len(move_to_int), activation='softmax')\n",
    "])\n",
    "model.compile(optimizer=Adam(), loss='categorical_crossentropy', metrics=['accuracy'])\n",
    "model.summary()\n",
    "model.fit(X, y, epochs=50, validation_split=0.1, batch_size=64)\n",
    "model.save(\"models/TF_50EPOCHS.keras\")"
   ]
  },
  {
   "cell_type": "markdown",
   "metadata": {},
   "source": [
    "## Predictions"
   ]
  },
  {
   "cell_type": "code",
   "execution_count": null,
   "metadata": {},
   "outputs": [],
   "source": [
    "# Load the trained model\n",
    "from tensorflow.keras.models import load_model\n",
    "model = load_model(\"models/TF_50EPOCHS.keras\")"
   ]
  },
  {
   "cell_type": "code",
   "execution_count": null,
   "metadata": {},
   "outputs": [],
   "source": [
    "int_to_move = dict(zip(move_to_int.values(), move_to_int.keys()))\n",
    "\n",
    "\n",
    "def predict_next_move(board):\n",
    "    board_matrix = board_to_matrix(board).reshape(1, 8, 8, 12)\n",
    "    predictions = model.predict(board_matrix)[0]\n",
    "    legal_moves = list(board.legal_moves)\n",
    "    legal_moves_uci = [move.uci() for move in legal_moves]\n",
    "    sorted_indices = np.argsort(predictions)[::-1]\n",
    "    for move_index in sorted_indices:\n",
    "        move = int_to_move[move_index]\n",
    "        if move in legal_moves_uci:\n",
    "            return move\n",
    "    return None"
   ]
  },
  {
   "cell_type": "code",
   "execution_count": null,
   "metadata": {},
   "outputs": [],
   "source": [
    "# Create a chess board (start position)\n",
    "board = Board()"
   ]
  },
  {
   "cell_type": "code",
   "execution_count": null,
   "metadata": {},
   "outputs": [],
   "source": [
    "# Display the board before prediction\n",
    "print(\"Board before prediction:\")\n",
    "print(board)\n",
    "\n",
    "# Predict and make the move\n",
    "next_move = predict_next_move(board)\n",
    "board.push_uci(next_move)\n",
    "\n",
    "# Display the board after prediction\n",
    "print(\"\\nPredicted move:\", next_move)\n",
    "print(\"Board after prediction:\")\n",
    "print(board)"
   ]
  },
  {
   "cell_type": "code",
   "execution_count": null,
   "metadata": {},
   "outputs": [],
   "source": [
    "print(str(pgn.Game.from_board(board)))"
   ]
  }
 ],
 "metadata": {
  "kernelspec": {
   "display_name": "Python 3",
   "language": "python",
   "name": "python3"
  },
  "language_info": {
   "codemirror_mode": {
    "name": "ipython",
    "version": 3
   },
   "file_extension": ".py",
   "mimetype": "text/x-python",
   "name": "python",
   "nbconvert_exporter": "python",
   "pygments_lexer": "ipython3",
   "version": "3.12.3"
  }
 },
 "nbformat": 4,
 "nbformat_minor": 2
}
